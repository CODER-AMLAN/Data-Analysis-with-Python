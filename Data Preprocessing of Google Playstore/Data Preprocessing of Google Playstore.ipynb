{
 "cells": [
  {
   "cell_type": "markdown",
   "id": "e0554483-d9bb-4709-9ac7-be92d32f3fcb",
   "metadata": {},
   "source": [
    "# DATA PREPROCESSING OF GOOGLE PLAYSTORE"
   ]
  },
  {
   "cell_type": "code",
   "execution_count": 5,
   "id": "f2bfbe78-f83e-4b59-8374-545bcf0000eb",
   "metadata": {},
   "outputs": [],
   "source": [
    "import pandas as pd\n",
    "import numpy as np\n",
    "from sklearn.impute import SimpleImputer"
   ]
  },
  {
   "cell_type": "markdown",
   "id": "8ff827ca-e90b-4174-96a2-680a41a923ea",
   "metadata": {},
   "source": [
    "## HANDLING AND REMOVING NULL VALUES"
   ]
  },
  {
   "cell_type": "code",
   "execution_count": 18,
   "id": "c7f7528e-5b64-42c0-8ad5-54c12bf7805f",
   "metadata": {},
   "outputs": [
    {
     "data": {
      "text/plain": [
       "App               0\n",
       "Category          0\n",
       "Rating            0\n",
       "Reviews           0\n",
       "Size              0\n",
       "Installs          0\n",
       "Type              0\n",
       "Price             0\n",
       "Content Rating    0\n",
       "Genres            0\n",
       "Last Updated      0\n",
       "Current Ver       0\n",
       "Android Ver       0\n",
       "dtype: int64"
      ]
     },
     "execution_count": 18,
     "metadata": {},
     "output_type": "execute_result"
    }
   ],
   "source": [
    "df = pd.read_csv(\"googleplaystore.csv\")\n",
    "imputer = SimpleImputer(missing_values = np.nan, strategy = 'most_frequent')\n",
    "imputer.fit(df.iloc[:,2:3].values)\n",
    "df.iloc[:,2:3] = imputer.transform(df.iloc[:,2:3].values)\n",
    "df =  df.dropna()\n",
    "df.isnull().sum()"
   ]
  },
  {
   "cell_type": "markdown",
   "id": "2237280a-7d21-4602-8c29-60a0779249ab",
   "metadata": {},
   "source": [
    "## Finding Average Rating"
   ]
  },
  {
   "cell_type": "code",
   "execution_count": 24,
   "id": "32a27d5a-f7fd-4f02-a326-791177e2dd4e",
   "metadata": {},
   "outputs": [
    {
     "name": "stdout",
     "output_type": "stream",
     "text": [
      "Average rating is: 4.22\n"
     ]
    }
   ],
   "source": [
    "s = 0\n",
    "for i in df['Rating']:\n",
    "    s+=i\n",
    "avg = s/len(df['Rating'])\n",
    "print(f\"Average rating is: {avg:.2f}\")\n"
   ]
  },
  {
   "cell_type": "markdown",
   "id": "fbff6702-aee5-4929-a41a-ac2af7c1f67f",
   "metadata": {},
   "source": [
    "## Finding number of ratings between 4 - 4.5"
   ]
  },
  {
   "cell_type": "code",
   "execution_count": 25,
   "id": "5d4264ec-ef87-44bc-9b73-6fbc35dddd21",
   "metadata": {},
   "outputs": [
    {
     "name": "stdout",
     "output_type": "stream",
     "text": [
      "Number of ratings between 4 and 4.5 is: 6915\n"
     ]
    }
   ],
   "source": [
    "c = 0\n",
    "for i in df['Rating']:\n",
    "    if(i>=4 and i<=4.5):\n",
    "        c+=1\n",
    "print(f\"Number of ratings between 4 and 4.5 is: {c}\")\n"
   ]
  },
  {
   "cell_type": "markdown",
   "id": "444f6ba2-3a3d-4eca-88db-f35b77635043",
   "metadata": {},
   "source": [
    "## Counting the number of paid and free apps"
   ]
  },
  {
   "cell_type": "code",
   "execution_count": 29,
   "id": "ea203755-e7bd-4e75-9c61-88cb1f0d3c55",
   "metadata": {},
   "outputs": [
    {
     "name": "stdout",
     "output_type": "stream",
     "text": [
      "Free\n",
      "Paid\n"
     ]
    }
   ],
   "source": [
    "for i in df['Type'].unique():\n",
    "    print(i)"
   ]
  },
  {
   "cell_type": "code",
   "execution_count": 33,
   "id": "860799b4-de50-456c-9036-c2e23a682c3a",
   "metadata": {},
   "outputs": [
    {
     "name": "stdout",
     "output_type": "stream",
     "text": [
      "Number of free apps: 10032\n",
      "Number of paid apps: 797\n"
     ]
    }
   ],
   "source": [
    "f,p=0,0\n",
    "for i in df['Type']:\n",
    "    if(i == 'Free'):\n",
    "        f+=1\n",
    "    else:\n",
    "        p+=1\n",
    "print(f\"Number of free apps: {f}\\nNumber of paid apps: {p}\")"
   ]
  },
  {
   "cell_type": "markdown",
   "id": "ead78be9-7ee1-42d6-9a5c-022eb60c03f9",
   "metadata": {},
   "source": [
    "## Total number of apps in each 'Category'"
   ]
  },
  {
   "cell_type": "code",
   "execution_count": 36,
   "id": "549ea5ef-1952-4572-b399-9af852ca8482",
   "metadata": {},
   "outputs": [
    {
     "data": {
      "text/plain": [
       "{'ART_AND_DESIGN': 64,\n",
       " 'AUTO_AND_VEHICLES': 85,\n",
       " 'BEAUTY': 53,\n",
       " 'BOOKS_AND_REFERENCE': 230,\n",
       " 'BUSINESS': 460,\n",
       " 'COMICS': 60,\n",
       " 'COMMUNICATION': 387,\n",
       " 'DATING': 234,\n",
       " 'EDUCATION': 156,\n",
       " 'ENTERTAINMENT': 149,\n",
       " 'EVENTS': 64,\n",
       " 'FINANCE': 366,\n",
       " 'FOOD_AND_DRINK': 127,\n",
       " 'HEALTH_AND_FITNESS': 341,\n",
       " 'HOUSE_AND_HOME': 88,\n",
       " 'LIBRARIES_AND_DEMO': 84,\n",
       " 'LIFESTYLE': 382,\n",
       " 'GAME': 1144,\n",
       " 'FAMILY': 1968,\n",
       " 'MEDICAL': 463,\n",
       " 'SOCIAL': 295,\n",
       " 'SHOPPING': 260,\n",
       " 'PHOTOGRAPHY': 335,\n",
       " 'SPORTS': 384,\n",
       " 'TRAVEL_AND_LOCAL': 258,\n",
       " 'TOOLS': 841,\n",
       " 'PERSONALIZATION': 390,\n",
       " 'PRODUCTIVITY': 424,\n",
       " 'PARENTING': 60,\n",
       " 'WEATHER': 82,\n",
       " 'VIDEO_PLAYERS': 175,\n",
       " 'NEWS_AND_MAGAZINES': 283,\n",
       " 'MAPS_AND_NAVIGATION': 137}"
      ]
     },
     "execution_count": 36,
     "metadata": {},
     "output_type": "execute_result"
    }
   ],
   "source": [
    "categories = {}\n",
    "for name in df['Category'].unique():\n",
    "    ct = 0\n",
    "    for i in df['Category']:\n",
    "        if(i == name):\n",
    "            ct+=1\n",
    "    categories[name] = ct\n",
    "categories"
   ]
  },
  {
   "cell_type": "code",
   "execution_count": null,
   "id": "a6946c50-2e25-47be-b4d4-a83be6df07cf",
   "metadata": {},
   "outputs": [],
   "source": []
  }
 ],
 "metadata": {
  "kernelspec": {
   "display_name": "Python 3 (ipykernel)",
   "language": "python",
   "name": "python3"
  },
  "language_info": {
   "codemirror_mode": {
    "name": "ipython",
    "version": 3
   },
   "file_extension": ".py",
   "mimetype": "text/x-python",
   "name": "python",
   "nbconvert_exporter": "python",
   "pygments_lexer": "ipython3",
   "version": "3.12.7"
  }
 },
 "nbformat": 4,
 "nbformat_minor": 5
}
